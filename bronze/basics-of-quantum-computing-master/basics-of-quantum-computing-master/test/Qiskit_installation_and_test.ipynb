{
 "cells": [
  {
   "cell_type": "markdown",
   "metadata": {},
   "source": [
    "<table> <tr>\n",
    "        <td  style=\"background-color:#ffffff;\"><a href=\"http://qworld.lu.lv/\" target=\"_blank\"><img src=\"../images/qworld.jpg\" width=\"25%\" align=\"left\"></a></td>\n",
    "        <td  style=\"background-color:#ffffff;vertical-align:bottom;\">\n",
    "            prepared by Abuzer Yakaryilmaz (<a href=\"http://qworld.lu.lv/index.php/qlatvia/\" target=\"_blank\">QLatvia</a>)\n",
    "        </td>        \n",
    "</tr></table>"
   ]
  },
  {
   "cell_type": "markdown",
   "metadata": {},
   "source": [
    "<table width=\"100%\"><tr><td style=\"color:#bbbbbb;background-color:#ffffff;font-size:11px;font-style:italic;text-align:right;\">This cell contains some macros. If there is a problem with displaying mathematical formulas, please run this cell to load these macros. </td></tr></table>\n",
    "$ \\newcommand{\\bra}[1]{\\langle #1|} $\n",
    "$ \\newcommand{\\ket}[1]{|#1\\rangle} $\n",
    "$ \\newcommand{\\braket}[2]{\\langle #1|#2\\rangle} $\n",
    "$ \\newcommand{\\dot}[2]{ #1 \\cdot #2} $\n",
    "$ \\newcommand{\\biginner}[2]{\\left\\langle #1,#2\\right\\rangle} $\n",
    "$ \\newcommand{\\mymatrix}[2]{\\left( \\begin{array}{#1} #2\\end{array} \\right)} $\n",
    "$ \\newcommand{\\myvector}[1]{\\mymatrix{c}{#1}} $\n",
    "$ \\newcommand{\\myrvector}[1]{\\mymatrix{r}{#1}} $\n",
    "$ \\newcommand{\\mypar}[1]{\\left( #1 \\right)} $\n",
    "$ \\newcommand{\\mybigpar}[1]{ \\Big( #1 \\Big)} $\n",
    "$ \\newcommand{\\sqrttwo}{\\frac{1}{\\sqrt{2}}} $\n",
    "$ \\newcommand{\\dsqrttwo}{\\dfrac{1}{\\sqrt{2}}} $\n",
    "$ \\newcommand{\\onehalf}{\\frac{1}{2}} $\n",
    "$ \\newcommand{\\donehalf}{\\dfrac{1}{2}} $\n",
    "$ \\newcommand{\\hadamard}{ \\mymatrix{rr}{ \\sqrttwo & \\sqrttwo \\\\ \\sqrttwo & -\\sqrttwo }} $\n",
    "$ \\newcommand{\\vzero}{\\myvector{1\\\\0}} $\n",
    "$ \\newcommand{\\vone}{\\myvector{0\\\\1}} $\n",
    "$ \\newcommand{\\vhadamardzero}{\\myvector{ \\sqrttwo \\\\  \\sqrttwo } } $\n",
    "$ \\newcommand{\\vhadamardone}{ \\myrvector{ \\sqrttwo \\\\ -\\sqrttwo } } $\n",
    "$ \\newcommand{\\myarray}[2]{ \\begin{array}{#1}#2\\end{array}} $\n",
    "$ \\newcommand{\\X}{ \\mymatrix{cc}{0 & 1 \\\\ 1 & 0}  } $\n",
    "$ \\newcommand{\\Z}{ \\mymatrix{rr}{1 & 0 \\\\ 0 & -1}  } $\n",
    "$ \\newcommand{\\Htwo}{ \\mymatrix{rrrr}{ \\frac{1}{2} & \\frac{1}{2} & \\frac{1}{2} & \\frac{1}{2} \\\\ \\frac{1}{2} & -\\frac{1}{2} & \\frac{1}{2} & -\\frac{1}{2} \\\\ \\frac{1}{2} & \\frac{1}{2} & -\\frac{1}{2} & -\\frac{1}{2} \\\\ \\frac{1}{2} & -\\frac{1}{2} & -\\frac{1}{2} & \\frac{1}{2} } } $\n",
    "$ \\newcommand{\\CNOT}{ \\mymatrix{cccc}{1 & 0 & 0 & 0 \\\\ 0 & 1 & 0 & 0 \\\\ 0 & 0 & 0 & 1 \\\\ 0 & 0 & 1 & 0} } $\n",
    "$ \\newcommand{\\norm}[1]{ \\left\\lVert #1 \\right\\rVert } $\n",
    "$ \\newcommand{\\pstate}[1]{ \\lceil \\mspace{-1mu} #1 \\mspace{-1.5mu} \\rfloor } $"
   ]
  },
  {
   "cell_type": "markdown",
   "metadata": {},
   "source": [
    "## Qiskit installation and test\n",
    "\n",
    "- [Check your system](#check)\n",
    "- [Install qiskit](#install)\n",
    "- [Tips](#tips)\n",
    "- [Execute an example quantum program](#test)"
   ]
  },
  {
   "cell_type": "markdown",
   "metadata": {},
   "source": [
    "<hr id=\"check\">\n",
    "\n",
    "### Check your system\n",
    "\n",
    "Check your system, if Qiskit has already been installed:"
   ]
  },
  {
   "cell_type": "code",
   "execution_count": 1,
   "metadata": {},
   "outputs": [
    {
     "name": "stdout",
     "output_type": "stream",
     "text": [
      "The version of Qiskit is 0.26.2\n",
      "\n",
      "The version of each component:\n",
      "qiskit-terra -> 0.17.4\n",
      "qiskit-aer -> 0.8.2\n",
      "qiskit-ignis -> 0.6.0\n",
      "qiskit-ibmq-provider -> 0.13.1\n",
      "qiskit-aqua -> 0.9.1\n",
      "qiskit -> 0.26.2\n",
      "qiskit-nature -> None\n",
      "qiskit-finance -> None\n",
      "qiskit-optimization -> None\n",
      "qiskit-machine-learning -> None\n"
     ]
    }
   ],
   "source": [
    "import qiskit\n",
    "versions = qiskit.__qiskit_version__\n",
    "print(\"The version of Qiskit is\",versions['qiskit'])\n",
    "print()\n",
    "print(\"The version of each component:\")\n",
    "for key in versions:\n",
    "    print(key,\"->\",versions[key])"
   ]
  },
  {
   "cell_type": "markdown",
   "metadata": {},
   "source": [
    "**You should be able to see the version number of any library that is already installed in your system.**"
   ]
  },
  {
   "cell_type": "markdown",
   "metadata": {},
   "source": [
    "<hr id=\"install\">\n",
    "\n",
    "### Install qiskit\n",
    "\n",
    "(If you are an experienced user, visit this link: https://qiskit.org/documentation/install.html)\n",
    "\n",
    "You can install Qiskit by executing the following cell:"
   ]
  },
  {
   "cell_type": "code",
   "execution_count": 6,
   "metadata": {},
   "outputs": [
    {
     "name": "stdout",
     "output_type": "stream",
     "text": [
      "Requirement already satisfied: qiskit[visualization] in c:\\users\\hewp\\appdata\\roaming\\python\\python38\\site-packages (0.26.2)\n",
      "Requirement already satisfied: qiskit-terra==0.17.4 in c:\\users\\hewp\\appdata\\roaming\\python\\python38\\site-packages (from qiskit[visualization]) (0.17.4)\n",
      "Requirement already satisfied: qiskit-ibmq-provider==0.13.1 in c:\\users\\hewp\\appdata\\roaming\\python\\python38\\site-packages (from qiskit[visualization]) (0.13.1)\n",
      "Requirement already satisfied: qiskit-ignis==0.6.0 in c:\\users\\hewp\\appdata\\roaming\\python\\python38\\site-packages (from qiskit[visualization]) (0.6.0)\n",
      "Requirement already satisfied: qiskit-aer==0.8.2 in c:\\users\\hewp\\appdata\\roaming\\python\\python38\\site-packages (from qiskit[visualization]) (0.8.2)\n",
      "Requirement already satisfied: qiskit-aqua==0.9.1 in c:\\users\\hewp\\appdata\\roaming\\python\\python38\\site-packages (from qiskit[visualization]) (0.9.1)\n",
      "Requirement already satisfied: pygments>=2.4 in c:\\users\\hewp\\anaconda3\\lib\\site-packages (from qiskit[visualization]) (2.8.1)\n",
      "Requirement already satisfied: pillow>=4.2.1 in c:\\users\\hewp\\anaconda3\\lib\\site-packages (from qiskit[visualization]) (8.2.0)\n",
      "Requirement already satisfied: pylatexenc>=1.4 in c:\\users\\hewp\\appdata\\roaming\\python\\python38\\site-packages (from qiskit[visualization]) (2.10)\n",
      "Requirement already satisfied: seaborn>=0.9.0 in c:\\users\\hewp\\anaconda3\\lib\\site-packages (from qiskit[visualization]) (0.11.1)\n",
      "Requirement already satisfied: ipywidgets>=7.3.0 in c:\\users\\hewp\\anaconda3\\lib\\site-packages (from qiskit[visualization]) (7.6.3)\n",
      "Requirement already satisfied: matplotlib>=2.1 in c:\\users\\hewp\\anaconda3\\lib\\site-packages (from qiskit[visualization]) (3.3.4)\n",
      "Requirement already satisfied: pydot in c:\\users\\hewp\\appdata\\roaming\\python\\python38\\site-packages (from qiskit[visualization]) (1.4.2)\n",
      "Requirement already satisfied: scipy>=1.0 in c:\\users\\hewp\\appdata\\roaming\\python\\python38\\site-packages (from qiskit-aer==0.8.2->qiskit[visualization]) (1.6.1)\n",
      "Requirement already satisfied: pybind11>=2.6 in c:\\users\\hewp\\appdata\\roaming\\python\\python38\\site-packages (from qiskit-aer==0.8.2->qiskit[visualization]) (2.6.2)\n",
      "Requirement already satisfied: numpy>=1.16.3 in c:\\users\\hewp\\anaconda3\\lib\\site-packages (from qiskit-aer==0.8.2->qiskit[visualization]) (1.20.1)\n",
      "Requirement already satisfied: scikit-learn<=0.24.1,>=0.20.0 in c:\\users\\hewp\\anaconda3\\lib\\site-packages (from qiskit-aqua==0.9.1->qiskit[visualization]) (0.24.1)\n",
      "Requirement already satisfied: sympy<=1.7.1,>=1.3 in c:\\users\\hewp\\appdata\\roaming\\python\\python38\\site-packages (from qiskit-aqua==0.9.1->qiskit[visualization]) (1.7.1)\n",
      "Requirement already satisfied: quandl<=3.6.0 in c:\\users\\hewp\\appdata\\roaming\\python\\python38\\site-packages (from qiskit-aqua==0.9.1->qiskit[visualization]) (3.6.0)\n",
      "Requirement already satisfied: pandas<=1.2.3 in c:\\users\\hewp\\appdata\\roaming\\python\\python38\\site-packages (from qiskit-aqua==0.9.1->qiskit[visualization]) (1.2.3)\n",
      "Requirement already satisfied: dlx<=1.0.4 in c:\\users\\hewp\\appdata\\roaming\\python\\python38\\site-packages (from qiskit-aqua==0.9.1->qiskit[visualization]) (1.0.4)\n",
      "Requirement already satisfied: setuptools>=40.1.0 in c:\\users\\hewp\\anaconda3\\lib\\site-packages (from qiskit-aqua==0.9.1->qiskit[visualization]) (52.0.0.post20210125)\n",
      "Requirement already satisfied: retworkx<=0.8.0,>=0.7.0 in c:\\users\\hewp\\appdata\\roaming\\python\\python38\\site-packages (from qiskit-aqua==0.9.1->qiskit[visualization]) (0.8.0)\n",
      "Requirement already satisfied: docplex<=2.20.204 in c:\\users\\hewp\\appdata\\roaming\\python\\python38\\site-packages (from qiskit-aqua==0.9.1->qiskit[visualization]) (2.20.204)\n",
      "Requirement already satisfied: fastdtw<=0.3.4 in c:\\users\\hewp\\appdata\\roaming\\python\\python38\\site-packages (from qiskit-aqua==0.9.1->qiskit[visualization]) (0.3.4)\n",
      "Requirement already satisfied: psutil<=5.8.0,>=5 in c:\\users\\hewp\\anaconda3\\lib\\site-packages (from qiskit-aqua==0.9.1->qiskit[visualization]) (5.8.0)\n",
      "Requirement already satisfied: yfinance<=0.1.55 in c:\\users\\hewp\\appdata\\roaming\\python\\python38\\site-packages (from qiskit-aqua==0.9.1->qiskit[visualization]) (0.1.55)\n",
      "Requirement already satisfied: h5py<=3.1.0 in c:\\users\\hewp\\anaconda3\\lib\\site-packages (from qiskit-aqua==0.9.1->qiskit[visualization]) (2.10.0)\n",
      "Requirement already satisfied: requests>=2.19 in c:\\users\\hewp\\anaconda3\\lib\\site-packages (from qiskit-ibmq-provider==0.13.1->qiskit[visualization]) (2.25.1)\n",
      "Requirement already satisfied: python-dateutil>=2.8.0 in c:\\users\\hewp\\anaconda3\\lib\\site-packages (from qiskit-ibmq-provider==0.13.1->qiskit[visualization]) (2.8.1)\n",
      "Requirement already satisfied: urllib3>=1.21.1 in c:\\users\\hewp\\anaconda3\\lib\\site-packages (from qiskit-ibmq-provider==0.13.1->qiskit[visualization]) (1.26.4)\n",
      "Requirement already satisfied: dill>=0.3 in c:\\users\\hewp\\appdata\\roaming\\python\\python38\\site-packages (from qiskit-ibmq-provider==0.13.1->qiskit[visualization]) (0.3.3)\n",
      "Requirement already satisfied: nest-asyncio!=1.1.0,>=1.0.0 in c:\\users\\hewp\\anaconda3\\lib\\site-packages (from qiskit-ibmq-provider==0.13.1->qiskit[visualization]) (1.5.1)\n",
      "Requirement already satisfied: websockets>=8 in c:\\users\\hewp\\appdata\\roaming\\python\\python38\\site-packages (from qiskit-ibmq-provider==0.13.1->qiskit[visualization]) (9.1)\n",
      "Requirement already satisfied: requests-ntlm>=1.1.0 in c:\\users\\hewp\\appdata\\roaming\\python\\python38\\site-packages (from qiskit-ibmq-provider==0.13.1->qiskit[visualization]) (1.1.0)\n",
      "Requirement already satisfied: ply>=3.10 in c:\\users\\hewp\\anaconda3\\lib\\site-packages (from qiskit-terra==0.17.4->qiskit[visualization]) (3.11)\n",
      "Requirement already satisfied: python-constraint>=1.4 in c:\\users\\hewp\\appdata\\roaming\\python\\python38\\site-packages (from qiskit-terra==0.17.4->qiskit[visualization]) (1.4.0)\n",
      "Requirement already satisfied: fastjsonschema>=2.10 in c:\\users\\hewp\\appdata\\roaming\\python\\python38\\site-packages (from qiskit-terra==0.17.4->qiskit[visualization]) (2.15.1)\n",
      "Requirement already satisfied: jsonschema>=2.6 in c:\\users\\hewp\\anaconda3\\lib\\site-packages (from qiskit-terra==0.17.4->qiskit[visualization]) (3.2.0)\n",
      "Requirement already satisfied: six in c:\\users\\hewp\\anaconda3\\lib\\site-packages (from docplex<=2.20.204->qiskit-aqua==0.9.1->qiskit[visualization]) (1.15.0)\n",
      "Requirement already satisfied: ipykernel>=4.5.1 in c:\\users\\hewp\\anaconda3\\lib\\site-packages (from ipywidgets>=7.3.0->qiskit[visualization]) (5.3.4)\n",
      "Requirement already satisfied: ipython>=4.0.0 in c:\\users\\hewp\\anaconda3\\lib\\site-packages (from ipywidgets>=7.3.0->qiskit[visualization]) (7.22.0)\n",
      "Requirement already satisfied: jupyterlab-widgets>=1.0.0 in c:\\users\\hewp\\anaconda3\\lib\\site-packages (from ipywidgets>=7.3.0->qiskit[visualization]) (1.0.0)\n",
      "Requirement already satisfied: nbformat>=4.2.0 in c:\\users\\hewp\\anaconda3\\lib\\site-packages (from ipywidgets>=7.3.0->qiskit[visualization]) (5.1.3)\n",
      "Requirement already satisfied: widgetsnbextension~=3.5.0 in c:\\users\\hewp\\anaconda3\\lib\\site-packages (from ipywidgets>=7.3.0->qiskit[visualization]) (3.5.1)\n",
      "Requirement already satisfied: traitlets>=4.3.1 in c:\\users\\hewp\\anaconda3\\lib\\site-packages (from ipywidgets>=7.3.0->qiskit[visualization]) (5.0.5)\n",
      "Requirement already satisfied: tornado>=4.2 in c:\\users\\hewp\\anaconda3\\lib\\site-packages (from ipykernel>=4.5.1->ipywidgets>=7.3.0->qiskit[visualization]) (6.1)\n",
      "Requirement already satisfied: jupyter-client in c:\\users\\hewp\\anaconda3\\lib\\site-packages (from ipykernel>=4.5.1->ipywidgets>=7.3.0->qiskit[visualization]) (6.1.12)\n",
      "Requirement already satisfied: colorama in c:\\users\\hewp\\anaconda3\\lib\\site-packages (from ipython>=4.0.0->ipywidgets>=7.3.0->qiskit[visualization]) (0.4.4)\n",
      "Requirement already satisfied: prompt-toolkit!=3.0.0,!=3.0.1,<3.1.0,>=2.0.0 in c:\\users\\hewp\\anaconda3\\lib\\site-packages (from ipython>=4.0.0->ipywidgets>=7.3.0->qiskit[visualization]) (3.0.17)\n",
      "Requirement already satisfied: jedi>=0.16 in c:\\users\\hewp\\anaconda3\\lib\\site-packages (from ipython>=4.0.0->ipywidgets>=7.3.0->qiskit[visualization]) (0.17.2)\n",
      "Requirement already satisfied: pickleshare in c:\\users\\hewp\\anaconda3\\lib\\site-packages (from ipython>=4.0.0->ipywidgets>=7.3.0->qiskit[visualization]) (0.7.5)\n",
      "Requirement already satisfied: backcall in c:\\users\\hewp\\anaconda3\\lib\\site-packages (from ipython>=4.0.0->ipywidgets>=7.3.0->qiskit[visualization]) (0.2.0)\n",
      "Requirement already satisfied: decorator in c:\\users\\hewp\\anaconda3\\lib\\site-packages (from ipython>=4.0.0->ipywidgets>=7.3.0->qiskit[visualization]) (5.0.6)\n",
      "Requirement already satisfied: parso<0.8.0,>=0.7.0 in c:\\users\\hewp\\anaconda3\\lib\\site-packages (from jedi>=0.16->ipython>=4.0.0->ipywidgets>=7.3.0->qiskit[visualization]) (0.7.0)\n",
      "Requirement already satisfied: pyrsistent>=0.14.0 in c:\\users\\hewp\\anaconda3\\lib\\site-packages (from jsonschema>=2.6->qiskit-terra==0.17.4->qiskit[visualization]) (0.17.3)\n",
      "Requirement already satisfied: attrs>=17.4.0 in c:\\users\\hewp\\anaconda3\\lib\\site-packages (from jsonschema>=2.6->qiskit-terra==0.17.4->qiskit[visualization]) (20.3.0)\n",
      "Requirement already satisfied: cycler>=0.10 in c:\\users\\hewp\\anaconda3\\lib\\site-packages (from matplotlib>=2.1->qiskit[visualization]) (0.10.0)\n",
      "Requirement already satisfied: pyparsing!=2.0.4,!=2.1.2,!=2.1.6,>=2.0.3 in c:\\users\\hewp\\anaconda3\\lib\\site-packages (from matplotlib>=2.1->qiskit[visualization]) (2.4.7)\n",
      "Requirement already satisfied: kiwisolver>=1.0.1 in c:\\users\\hewp\\anaconda3\\lib\\site-packages (from matplotlib>=2.1->qiskit[visualization]) (1.3.1)\n",
      "Requirement already satisfied: ipython-genutils in c:\\users\\hewp\\anaconda3\\lib\\site-packages (from nbformat>=4.2.0->ipywidgets>=7.3.0->qiskit[visualization]) (0.2.0)\n",
      "Requirement already satisfied: jupyter-core in c:\\users\\hewp\\anaconda3\\lib\\site-packages (from nbformat>=4.2.0->ipywidgets>=7.3.0->qiskit[visualization]) (4.7.1)\n",
      "Requirement already satisfied: pytz>=2017.3 in c:\\users\\hewp\\anaconda3\\lib\\site-packages (from pandas<=1.2.3->qiskit-aqua==0.9.1->qiskit[visualization]) (2021.1)\n",
      "Requirement already satisfied: wcwidth in c:\\users\\hewp\\anaconda3\\lib\\site-packages (from prompt-toolkit!=3.0.0,!=3.0.1,<3.1.0,>=2.0.0->ipython>=4.0.0->ipywidgets>=7.3.0->qiskit[visualization]) (0.2.5)\n",
      "Requirement already satisfied: inflection>=0.3.1 in c:\\users\\hewp\\appdata\\roaming\\python\\python38\\site-packages (from quandl<=3.6.0->qiskit-aqua==0.9.1->qiskit[visualization]) (0.5.1)\n",
      "Requirement already satisfied: more-itertools in c:\\users\\hewp\\anaconda3\\lib\\site-packages (from quandl<=3.6.0->qiskit-aqua==0.9.1->qiskit[visualization]) (8.7.0)\n",
      "Requirement already satisfied: idna<3,>=2.5 in c:\\users\\hewp\\anaconda3\\lib\\site-packages (from requests>=2.19->qiskit-ibmq-provider==0.13.1->qiskit[visualization]) (2.10)\n",
      "Requirement already satisfied: chardet<5,>=3.0.2 in c:\\users\\hewp\\anaconda3\\lib\\site-packages (from requests>=2.19->qiskit-ibmq-provider==0.13.1->qiskit[visualization]) (4.0.0)\n",
      "Requirement already satisfied: certifi>=2017.4.17 in c:\\users\\hewp\\anaconda3\\lib\\site-packages (from requests>=2.19->qiskit-ibmq-provider==0.13.1->qiskit[visualization]) (2020.12.5)\n",
      "Requirement already satisfied: ntlm-auth>=1.0.2 in c:\\users\\hewp\\appdata\\roaming\\python\\python38\\site-packages (from requests-ntlm>=1.1.0->qiskit-ibmq-provider==0.13.1->qiskit[visualization]) (1.5.0)\n",
      "Requirement already satisfied: cryptography>=1.3 in c:\\users\\hewp\\anaconda3\\lib\\site-packages (from requests-ntlm>=1.1.0->qiskit-ibmq-provider==0.13.1->qiskit[visualization]) (3.4.7)\n",
      "Requirement already satisfied: cffi>=1.12 in c:\\users\\hewp\\anaconda3\\lib\\site-packages (from cryptography>=1.3->requests-ntlm>=1.1.0->qiskit-ibmq-provider==0.13.1->qiskit[visualization]) (1.14.5)\n",
      "Requirement already satisfied: pycparser in c:\\users\\hewp\\anaconda3\\lib\\site-packages (from cffi>=1.12->cryptography>=1.3->requests-ntlm>=1.1.0->qiskit-ibmq-provider==0.13.1->qiskit[visualization]) (2.20)\n",
      "Requirement already satisfied: joblib>=0.11 in c:\\users\\hewp\\anaconda3\\lib\\site-packages (from scikit-learn<=0.24.1,>=0.20.0->qiskit-aqua==0.9.1->qiskit[visualization]) (1.0.1)\n",
      "Requirement already satisfied: threadpoolctl>=2.0.0 in c:\\users\\hewp\\anaconda3\\lib\\site-packages (from scikit-learn<=0.24.1,>=0.20.0->qiskit-aqua==0.9.1->qiskit[visualization]) (2.1.0)\n",
      "Requirement already satisfied: mpmath>=0.19 in c:\\users\\hewp\\anaconda3\\lib\\site-packages (from sympy<=1.7.1,>=1.3->qiskit-aqua==0.9.1->qiskit[visualization]) (1.2.1)\n",
      "Requirement already satisfied: notebook>=4.4.1 in c:\\users\\hewp\\anaconda3\\lib\\site-packages (from widgetsnbextension~=3.5.0->ipywidgets>=7.3.0->qiskit[visualization]) (6.3.0)\n",
      "Requirement already satisfied: prometheus-client in c:\\users\\hewp\\anaconda3\\lib\\site-packages (from notebook>=4.4.1->widgetsnbextension~=3.5.0->ipywidgets>=7.3.0->qiskit[visualization]) (0.10.1)\n",
      "Requirement already satisfied: Send2Trash>=1.5.0 in c:\\users\\hewp\\anaconda3\\lib\\site-packages (from notebook>=4.4.1->widgetsnbextension~=3.5.0->ipywidgets>=7.3.0->qiskit[visualization]) (1.5.0)\n",
      "Requirement already satisfied: argon2-cffi in c:\\users\\hewp\\anaconda3\\lib\\site-packages (from notebook>=4.4.1->widgetsnbextension~=3.5.0->ipywidgets>=7.3.0->qiskit[visualization]) (20.1.0)\n",
      "Requirement already satisfied: terminado>=0.8.3 in c:\\users\\hewp\\anaconda3\\lib\\site-packages (from notebook>=4.4.1->widgetsnbextension~=3.5.0->ipywidgets>=7.3.0->qiskit[visualization]) (0.9.4)\n",
      "Requirement already satisfied: pyzmq>=17 in c:\\users\\hewp\\anaconda3\\lib\\site-packages (from notebook>=4.4.1->widgetsnbextension~=3.5.0->ipywidgets>=7.3.0->qiskit[visualization]) (20.0.0)\n",
      "Requirement already satisfied: nbconvert in c:\\users\\hewp\\anaconda3\\lib\\site-packages (from notebook>=4.4.1->widgetsnbextension~=3.5.0->ipywidgets>=7.3.0->qiskit[visualization]) (6.0.7)\n",
      "Requirement already satisfied: jinja2 in c:\\users\\hewp\\anaconda3\\lib\\site-packages (from notebook>=4.4.1->widgetsnbextension~=3.5.0->ipywidgets>=7.3.0->qiskit[visualization]) (2.11.3)\n",
      "Requirement already satisfied: pywin32>=1.0 in c:\\users\\hewp\\anaconda3\\lib\\site-packages (from jupyter-core->nbformat>=4.2.0->ipywidgets>=7.3.0->qiskit[visualization]) (227)\n",
      "Requirement already satisfied: pywinpty>=0.5 in c:\\users\\hewp\\anaconda3\\lib\\site-packages (from terminado>=0.8.3->notebook>=4.4.1->widgetsnbextension~=3.5.0->ipywidgets>=7.3.0->qiskit[visualization]) (0.5.7)\n",
      "Requirement already satisfied: multitasking>=0.0.7 in c:\\users\\hewp\\appdata\\roaming\\python\\python38\\site-packages (from yfinance<=0.1.55->qiskit-aqua==0.9.1->qiskit[visualization]) (0.0.9)\n",
      "Requirement already satisfied: lxml>=4.5.1 in c:\\users\\hewp\\anaconda3\\lib\\site-packages (from yfinance<=0.1.55->qiskit-aqua==0.9.1->qiskit[visualization]) (4.6.3)\n",
      "Requirement already satisfied: MarkupSafe>=0.23 in c:\\users\\hewp\\anaconda3\\lib\\site-packages (from jinja2->notebook>=4.4.1->widgetsnbextension~=3.5.0->ipywidgets>=7.3.0->qiskit[visualization]) (1.1.1)\n",
      "Requirement already satisfied: nbclient<0.6.0,>=0.5.0 in c:\\users\\hewp\\anaconda3\\lib\\site-packages (from nbconvert->notebook>=4.4.1->widgetsnbextension~=3.5.0->ipywidgets>=7.3.0->qiskit[visualization]) (0.5.3)\n",
      "Requirement already satisfied: jupyterlab-pygments in c:\\users\\hewp\\anaconda3\\lib\\site-packages (from nbconvert->notebook>=4.4.1->widgetsnbextension~=3.5.0->ipywidgets>=7.3.0->qiskit[visualization]) (0.1.2)\n",
      "Requirement already satisfied: testpath in c:\\users\\hewp\\anaconda3\\lib\\site-packages (from nbconvert->notebook>=4.4.1->widgetsnbextension~=3.5.0->ipywidgets>=7.3.0->qiskit[visualization]) (0.4.4)\n",
      "Requirement already satisfied: pandocfilters>=1.4.1 in c:\\users\\hewp\\anaconda3\\lib\\site-packages (from nbconvert->notebook>=4.4.1->widgetsnbextension~=3.5.0->ipywidgets>=7.3.0->qiskit[visualization]) (1.4.3)\n",
      "Requirement already satisfied: mistune<2,>=0.8.1 in c:\\users\\hewp\\anaconda3\\lib\\site-packages (from nbconvert->notebook>=4.4.1->widgetsnbextension~=3.5.0->ipywidgets>=7.3.0->qiskit[visualization]) (0.8.4)\n",
      "Requirement already satisfied: entrypoints>=0.2.2 in c:\\users\\hewp\\anaconda3\\lib\\site-packages (from nbconvert->notebook>=4.4.1->widgetsnbextension~=3.5.0->ipywidgets>=7.3.0->qiskit[visualization]) (0.3)\n",
      "Requirement already satisfied: bleach in c:\\users\\hewp\\anaconda3\\lib\\site-packages (from nbconvert->notebook>=4.4.1->widgetsnbextension~=3.5.0->ipywidgets>=7.3.0->qiskit[visualization]) (3.3.0)\n",
      "Requirement already satisfied: defusedxml in c:\\users\\hewp\\anaconda3\\lib\\site-packages (from nbconvert->notebook>=4.4.1->widgetsnbextension~=3.5.0->ipywidgets>=7.3.0->qiskit[visualization]) (0.7.1)\n",
      "Requirement already satisfied: async-generator in c:\\users\\hewp\\anaconda3\\lib\\site-packages (from nbclient<0.6.0,>=0.5.0->nbconvert->notebook>=4.4.1->widgetsnbextension~=3.5.0->ipywidgets>=7.3.0->qiskit[visualization]) (1.10)\n",
      "Requirement already satisfied: packaging in c:\\users\\hewp\\anaconda3\\lib\\site-packages (from bleach->nbconvert->notebook>=4.4.1->widgetsnbextension~=3.5.0->ipywidgets>=7.3.0->qiskit[visualization]) (20.9)\n",
      "Requirement already satisfied: webencodings in c:\\users\\hewp\\anaconda3\\lib\\site-packages (from bleach->nbconvert->notebook>=4.4.1->widgetsnbextension~=3.5.0->ipywidgets>=7.3.0->qiskit[visualization]) (0.5.1)\n"
     ]
    }
   ],
   "source": [
    "!pip install \"qiskit[visualization]\" --user"
   ]
  },
  {
   "cell_type": "markdown",
   "metadata": {},
   "source": [
    "__*Restart the kernel*__ (check \"Kernel\" menu) to apply the changes to the current notebook."
   ]
  },
  {
   "cell_type": "markdown",
   "metadata": {},
   "source": [
    "<hr id=\"tips\">\n",
    "\n",
    "### Tips\n",
    "\n",
    "_Any terminal/shell command can be executed in the notebook cells by putting exclamation mark (!) to the beginning of the command._\n",
    "\n",
    "_$\\rightarrow$ For updating Qiskit version, execute the following command on a code cell_\n",
    "\n",
    "    !pip install -U qiskit --user\n",
    "    \n",
    "_$\\rightarrow$ For uninstall Qiskit, execute the following command on a code cell_\n",
    "\n",
    "    !pip uninstall qiskit"
   ]
  },
  {
   "cell_type": "code",
   "execution_count": null,
   "metadata": {},
   "outputs": [],
   "source": [
    "#!pip install -U qiskit --user\n",
    "#!pip uninstall qiskit"
   ]
  },
  {
   "cell_type": "markdown",
   "metadata": {},
   "source": [
    "<hr id=\"test\">\n",
    "\n",
    "### Execute an example quantum program\n"
   ]
  },
  {
   "cell_type": "markdown",
   "metadata": {},
   "source": [
    "1) Create a quantum circuit"
   ]
  },
  {
   "cell_type": "code",
   "execution_count": 2,
   "metadata": {},
   "outputs": [
    {
     "name": "stdout",
     "output_type": "stream",
     "text": [
      "The execution of the cell was completed, and the circuit was created :)\n"
     ]
    }
   ],
   "source": [
    "# import the objects from qiskit\n",
    "from qiskit import QuantumRegister, ClassicalRegister, QuantumCircuit, execute, Aer\n",
    "from random import randrange\n",
    "\n",
    "# create a quantum circuit and its register objects\n",
    "qreg = QuantumRegister(2) # quantum register with two quantum bits\n",
    "creg = ClassicalRegister(2) # classical register with two classical bit\n",
    "circuit = QuantumCircuit(qreg,creg) # quantum circuit composed by a quantum register and a classical register\n",
    "\n",
    "# apply a Hadamard gate to the first qubit\n",
    "circuit.h(qreg[0])\n",
    "\n",
    "# set the second qubit to state |1>\n",
    "circuit.x(qreg[1])\n",
    "\n",
    "# apply CNOT(first_qubit,second_qubit)\n",
    "circuit.cx(qreg[0],qreg[1])\n",
    "\n",
    "# measure the both qubits\n",
    "circuit.measure(qreg,creg)\n",
    "\n",
    "print(\"The execution of the cell was completed, and the circuit was created :)\")"
   ]
  },
  {
   "cell_type": "markdown",
   "metadata": {},
   "source": [
    "2) Draw the circuit\n",
    "\n",
    "_Run the cell once more if the figure is not shown_"
   ]
  },
  {
   "cell_type": "code",
   "execution_count": 3,
   "metadata": {},
   "outputs": [
    {
     "data": {
      "image/png": "[encoded data removed]",
      "text/plain": [
       "<Figure size 340.233x204.68 with 1 Axes>"
      ]
     },
     "execution_count": 3,
     "metadata": {},
     "output_type": "execute_result"
    }
   ],
   "source": [
    "# draw circuit \n",
    "circuit.draw(output='mpl')\n",
    "\n",
    "# the output will be a \"matplotlib.Figure\" object"
   ]
  },
  {
   "cell_type": "markdown",
   "metadata": {},
   "source": [
    "3) Execute the circuit 1024 times in the local simulator and print the observed the outcomes"
   ]
  },
  {
   "cell_type": "code",
   "execution_count": 4,
   "metadata": {},
   "outputs": [
    {
     "name": "stdout",
     "output_type": "stream",
     "text": [
      "{'01': 500, '10': 524}\n"
     ]
    }
   ],
   "source": [
    "## execute the circuit 1024 times\n",
    "job = execute(circuit,Aer.get_backend('qasm_simulator'),shots=1024)\n",
    "# get the result\n",
    "counts = job.result().get_counts(circuit)\n",
    "print(counts)"
   ]
  }
 ],
 "metadata": {
  "kernelspec": {
   "display_name": "Python 3",
   "language": "python",
   "name": "python3"
  },
  "language_info": {
   "codemirror_mode": {
    "name": "ipython",
    "version": 3
   },
   "file_extension": ".py",
   "mimetype": "text/x-python",
   "name": "python",
   "nbconvert_exporter": "python",
   "pygments_lexer": "ipython3",
   "version": "3.8.8"
  }
 },
 "nbformat": 4,
 "nbformat_minor": 2
}
